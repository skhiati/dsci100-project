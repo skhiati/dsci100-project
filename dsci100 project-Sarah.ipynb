{
 "cells": [
  {
   "cell_type": "markdown",
   "id": "bd7a7cd9-d7bb-4322-a314-38b570bc3249",
   "metadata": {},
   "source": [
    "Predicting Newsletter Subscription from Player Characteristics on a Minecraft Research Server"
   ]
  },
  {
   "cell_type": "code",
   "execution_count": null,
   "id": "171edecc-1b7c-4f84-becc-26ccabd46e91",
   "metadata": {},
   "outputs": [],
   "source": []
  }
 ],
 "metadata": {
  "kernelspec": {
   "display_name": "R",
   "language": "R",
   "name": "ir"
  },
  "language_info": {
   "codemirror_mode": "r",
   "file_extension": ".r",
   "mimetype": "text/x-r-source",
   "name": "R",
   "pygments_lexer": "r",
   "version": "4.3.3"
  }
 },
 "nbformat": 4,
 "nbformat_minor": 5
}
